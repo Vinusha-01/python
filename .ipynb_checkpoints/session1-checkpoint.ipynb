{
 "cells": [
  {
   "cell_type": "markdown",
   "id": "893adaea-dc79-4a49-b087-805d1e289aa9",
   "metadata": {},
   "source": [
    "hello how ae you"
   ]
  },
  {
   "cell_type": "code",
   "execution_count": 1,
   "id": "b8e9918f-3401-4eec-ae00-316db2c807c0",
   "metadata": {},
   "outputs": [
    {
     "name": "stdout",
     "output_type": "stream",
     "text": [
      "30\n"
     ]
    }
   ],
   "source": [
    "a=10\n",
    "b=20\n",
    "c=a+b\n",
    "print(c)"
   ]
  },
  {
   "cell_type": "code",
   "execution_count": 7,
   "id": "677898d6-29b9-4fca-8063-fd8ff2a8c8d7",
   "metadata": {},
   "outputs": [
    {
     "name": "stdout",
     "output_type": "stream",
     "text": [
      "x is greater than 5\n"
     ]
    }
   ],
   "source": [
    "x = 10\n",
    "if x > 5:\n",
    "    print(\"x is greater than 5\")\n",
    "elif x < 15:\n",
    "     print(\"x is less than 15\")\n",
    "else:\n",
    "        print(\"x is 15 or greater\")"
   ]
  },
  {
   "cell_type": "code",
   "execution_count": 8,
   "id": "b2df6d6e-e058-4637-af36-3cd3bb20148e",
   "metadata": {},
   "outputs": [
    {
     "ename": "TypeError",
     "evalue": "details() missing 1 required positional argument: 'name'",
     "output_type": "error",
     "traceback": [
      "\u001b[1;31m---------------------------------------------------------------------------\u001b[0m",
      "\u001b[1;31mTypeError\u001b[0m                                 Traceback (most recent call last)",
      "Cell \u001b[1;32mIn[8], line 3\u001b[0m\n\u001b[0;32m      1\u001b[0m \u001b[38;5;28;01mdef\u001b[39;00m \u001b[38;5;21mdetails\u001b[39m(name, age\u001b[38;5;241m=\u001b[39m\u001b[38;5;241m20\u001b[39m):\n\u001b[0;32m      2\u001b[0m     \u001b[38;5;28mprint\u001b[39m(\u001b[38;5;124mf\u001b[39m\u001b[38;5;124m\"\u001b[39m\u001b[38;5;124mName: \u001b[39m\u001b[38;5;132;01m{\u001b[39;00mname\u001b[38;5;132;01m}\u001b[39;00m\u001b[38;5;124m, Age: \u001b[39m\u001b[38;5;132;01m{\u001b[39;00mage\u001b[38;5;132;01m}\u001b[39;00m\u001b[38;5;124m\"\u001b[39m)\n\u001b[1;32m----> 3\u001b[0m details()\n",
      "\u001b[1;31mTypeError\u001b[0m: details() missing 1 required positional argument: 'name'"
     ]
    }
   ],
   "source": [
    "def details(name, age=20):\n",
    "    print(f\"Name: {name}, Age: {age}\")\n",
    "details()"
   ]
  },
  {
   "cell_type": "code",
   "execution_count": 9,
   "id": "9d2e7226-ce91-4d0a-804a-50e1259a83f0",
   "metadata": {},
   "outputs": [
    {
     "name": "stdout",
     "output_type": "stream",
     "text": [
      "5\n"
     ]
    }
   ],
   "source": [
    "x = eval(\"2 + 3\")\n",
    "print(x)"
   ]
  },
  {
   "cell_type": "code",
   "execution_count": 10,
   "id": "92f5cec0-e9e2-4155-808a-6b3ad2f47dbf",
   "metadata": {},
   "outputs": [
    {
     "name": "stdin",
     "output_type": "stream",
     "text": [
      "Enter a number:  3\n"
     ]
    },
    {
     "ename": "TypeError",
     "evalue": "'>' not supported between instances of 'str' and 'int'",
     "output_type": "error",
     "traceback": [
      "\u001b[1;31m---------------------------------------------------------------------------\u001b[0m",
      "\u001b[1;31mTypeError\u001b[0m                                 Traceback (most recent call last)",
      "Cell \u001b[1;32mIn[10], line 2\u001b[0m\n\u001b[0;32m      1\u001b[0m x \u001b[38;5;241m=\u001b[39m \u001b[38;5;28minput\u001b[39m(\u001b[38;5;124m\"\u001b[39m\u001b[38;5;124mEnter a number: \u001b[39m\u001b[38;5;124m\"\u001b[39m)\n\u001b[1;32m----> 2\u001b[0m \u001b[38;5;28;01mif\u001b[39;00m x \u001b[38;5;241m>\u001b[39m \u001b[38;5;241m5\u001b[39m:\n\u001b[0;32m      3\u001b[0m     \u001b[38;5;28mprint\u001b[39m(\u001b[38;5;124m\"\u001b[39m\u001b[38;5;124mGreater than 5\u001b[39m\u001b[38;5;124m\"\u001b[39m)\n\u001b[0;32m      4\u001b[0m \u001b[38;5;28;01melse\u001b[39;00m:\n",
      "\u001b[1;31mTypeError\u001b[0m: '>' not supported between instances of 'str' and 'int'"
     ]
    }
   ],
   "source": [
    "x = input(\"Enter a number: \")\n",
    "if x > 5:\n",
    "    print(\"Greater than 5\")\n",
    "else:\n",
    "    print(\"Not greater than 5\")"
   ]
  },
  {
   "cell_type": "code",
   "execution_count": 11,
   "id": "9064d1c6-9db9-4973-8ac9-7ee308a12051",
   "metadata": {},
   "outputs": [
    {
     "name": "stdout",
     "output_type": "stream",
     "text": [
      "50\n",
      "None\n"
     ]
    }
   ],
   "source": [
    "a=10\n",
    "b=70\n",
    "def sub(a,b):\n",
    "    a=20\n",
    "    b=30\n",
    "    print(a+b)\n",
    "print(sub(100,200))"
   ]
  },
  {
   "cell_type": "code",
   "execution_count": 13,
   "id": "ae584d5c-6884-488a-87af-92fe03b59aec",
   "metadata": {},
   "outputs": [
    {
     "name": "stdout",
     "output_type": "stream",
     "text": [
      "Hello\n",
      "World!\n"
     ]
    }
   ],
   "source": [
    "print(\"Hello\")\n",
    "print(\"World!\")"
   ]
  },
  {
   "cell_type": "code",
   "execution_count": null,
   "id": "97d5cf4f-2d25-454c-8791-5aeb1213722a",
   "metadata": {},
   "outputs": [],
   "source": []
  }
 ],
 "metadata": {
  "kernelspec": {
   "display_name": "Python 3 (ipykernel)",
   "language": "python",
   "name": "python3"
  },
  "language_info": {
   "codemirror_mode": {
    "name": "ipython",
    "version": 3
   },
   "file_extension": ".py",
   "mimetype": "text/x-python",
   "name": "python",
   "nbconvert_exporter": "python",
   "pygments_lexer": "ipython3",
   "version": "3.12.7"
  }
 },
 "nbformat": 4,
 "nbformat_minor": 5
}

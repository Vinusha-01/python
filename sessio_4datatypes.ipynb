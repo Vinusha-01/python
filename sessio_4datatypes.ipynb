{
 "cells": [
  {
   "cell_type": "markdown",
   "id": "76029216-2f08-443f-adbd-afe5cf2208ac",
   "metadata": {},
   "source": [
    "# DATA TYPES"
   ]
  },
  {
   "cell_type": "markdown",
   "id": "a2458cd5-a3c3-4195-bcec-846a62adc7dc",
   "metadata": {},
   "source": [
    "- integer\n",
    "- float \n",
    "- string \n",
    "- list\n",
    "- tuple\n",
    "- set\n",
    "   - frozen set\n",
    "- dictionary\n",
    "- boolean\n",
    "- complex\n",
    "- range\n",
    "- byte \n",
    "- byte array\n",
    "- memory view\n",
    "- none type"
   ]
  },
  {
   "cell_type": "markdown",
   "id": "3b952d05-21a1-4b9c-85d6-b8be8dd5cf53",
   "metadata": {},
   "source": [
    "- myth\n",
    "  - only 14-15 data types are availabe "
   ]
  },
  {
   "cell_type": "markdown",
   "id": "857b7962-1bbb-41ba-9d3a-881b9027a48c",
   "metadata": {},
   "source": [
    "$integer$"
   ]
  },
  {
   "cell_type": "code",
   "execution_count": 7,
   "id": "6114da9b-5c59-4b9f-803e-438cc44be7a4",
   "metadata": {},
   "outputs": [
    {
     "data": {
      "text/plain": [
       "100"
      ]
     },
     "execution_count": 7,
     "metadata": {},
     "output_type": "execute_result"
    }
   ],
   "source": [
    "number=100\n",
    "number"
   ]
  },
  {
   "cell_type": "code",
   "execution_count": 9,
   "id": "cf4c199c-4938-41d2-b420-1ea72f66c420",
   "metadata": {},
   "outputs": [
    {
     "data": {
      "text/plain": [
       "int"
      ]
     },
     "execution_count": 9,
     "metadata": {},
     "output_type": "execute_result"
    }
   ],
   "source": [
    "type(number)"
   ]
  },
  {
   "cell_type": "markdown",
   "id": "9f8b9610-b94b-40fc-991a-875638f24f1d",
   "metadata": {},
   "source": [
    "**number system**\n",
    "- binary number system \n",
    "- decimal number system \n",
    "- octal number system \n",
    "- hexa number system"
   ]
  },
  {
   "cell_type": "markdown",
   "id": "68bac714-1a76-49b0-b331-2eaa80f86f28",
   "metadata": {},
   "source": [
    "**binary number system**\n",
    "- it is denoted with **0b** or**0B**\n",
    "- binary means two\n",
    "- we have generally 0 to 9 digits only available\n",
    "- binary means only two digits allowed :0 and 1\n",
    "- ex: 0b101, 0b111, 0b000\n",
    "- not valid: 0b123, 0b1000012"
   ]
  },
  {
   "cell_type": "code",
   "execution_count": 15,
   "id": "730e4251-3fba-4fc5-90f5-9834b606daf8",
   "metadata": {},
   "outputs": [
    {
     "data": {
      "text/plain": [
       "7"
      ]
     },
     "execution_count": 15,
     "metadata": {},
     "output_type": "execute_result"
    }
   ],
   "source": [
    "0b111"
   ]
  },
  {
   "cell_type": "code",
   "execution_count": 2,
   "id": "4fa5e355-45a2-430c-ab5f-d17315ff7775",
   "metadata": {},
   "outputs": [
    {
     "data": {
      "text/plain": [
       "29"
      ]
     },
     "execution_count": 2,
     "metadata": {},
     "output_type": "execute_result"
    }
   ],
   "source": [
    "0b11101"
   ]
  },
  {
   "cell_type": "code",
   "execution_count": null,
   "id": "07f958e2-2172-4228-b41a-8317e51bcdb5",
   "metadata": {},
   "outputs": [],
   "source": [
    "2^3    2^2   2^1    2^0\n",
    "8       4      2      1\n",
    "_______________________________\n",
    "0       0      0      0      0\n",
    "0       0      0      1      1\n",
    "0       0      1      0      2\n",
    "0       0      1      1      3\n",
    "0       1      0      0      4\n",
    "0       1      0      1      5\n",
    "0       1      1      0      6\n",
    "0       1      1      1      7\n",
    "1       0      0      0      8\n",
    "1       0      0      1      9\n",
    "1       0      1      0      10\n",
    "1       0      1      1      11\n",
    "1       1      0      0      12\n",
    "1       1      0      1      13\n",
    "1       1      1      0      14\n",
    "1       1      1      1      15\n"
   ]
  },
  {
   "cell_type": "markdown",
   "id": "6396ee9e-a4a4-4795-89b5-779c4822e36d",
   "metadata": {},
   "source": [
    "**octa number system**\n",
    "- it is denoted with **0o** or **0O**\n",
    "- octa means 8\n",
    "- we have generally 0 to 9 digits available\n",
    "- octa means eight digits allows :0, 1, 2, 3, 4, 5, 6, 7\n",
    "- ex: 0o567, 0o0111\n",
    "- not valid: 0o128"
   ]
  },
  {
   "cell_type": "code",
   "execution_count": 23,
   "id": "9dcf2326-d736-466e-8bff-09313990f57a",
   "metadata": {},
   "outputs": [
    {
     "data": {
      "text/plain": [
       "83"
      ]
     },
     "execution_count": 23,
     "metadata": {},
     "output_type": "execute_result"
    }
   ],
   "source": [
    "0o123"
   ]
  },
  {
   "cell_type": "code",
   "execution_count": 25,
   "id": "0f023e6a-8122-4b1c-9f0d-19ab3b5d44f9",
   "metadata": {},
   "outputs": [
    {
     "data": {
      "text/plain": [
       "375"
      ]
     },
     "execution_count": 25,
     "metadata": {},
     "output_type": "execute_result"
    }
   ],
   "source": [
    "0o567"
   ]
  },
  {
   "cell_type": "markdown",
   "id": "4590ece1-87da-44f9-8fe7-4be01d9100f0",
   "metadata": {},
   "source": [
    "**hexa number system**\n",
    "- it is denoted with 0x or 0X\n",
    "- hexa means 16\n",
    "- we have generally 0 to 9 digits available\n",
    "- hexa means : 0 to 9 and A to F\n",
    "- A:10, B:11, C:12, D:13, E:14, F:15\n",
    "- ex: 0xabc, 0x"
   ]
  },
  {
   "cell_type": "code",
   "execution_count": 38,
   "id": "de31e85d-f285-48cb-a9d6-d4f09ea1124b",
   "metadata": {},
   "outputs": [
    {
     "data": {
      "text/plain": [
       "1045"
      ]
     },
     "execution_count": 38,
     "metadata": {},
     "output_type": "execute_result"
    }
   ],
   "source": [
    "0o2025"
   ]
  },
  {
   "cell_type": "code",
   "execution_count": 40,
   "id": "9819c9c8-788a-49b4-88a4-e5129837d5dc",
   "metadata": {},
   "outputs": [
    {
     "data": {
      "text/plain": [
       "8229"
      ]
     },
     "execution_count": 40,
     "metadata": {},
     "output_type": "execute_result"
    }
   ],
   "source": [
    "0x2025"
   ]
  },
  {
   "cell_type": "code",
   "execution_count": 42,
   "id": "fc8bff1f-1f8f-4286-a5b8-9f98cb544da7",
   "metadata": {},
   "outputs": [
    {
     "data": {
      "text/plain": [
       "2025"
      ]
     },
     "execution_count": 42,
     "metadata": {},
     "output_type": "execute_result"
    }
   ],
   "source": [
    "0x7E9"
   ]
  },
  {
   "cell_type": "markdown",
   "id": "4deab59a-4bd4-4448-ae38-8601419cb4be",
   "metadata": {},
   "source": [
    "$float$"
   ]
  },
  {
   "cell_type": "code",
   "execution_count": 47,
   "id": "7ec12a5e-48c6-4621-83c8-2f3cd3b2240b",
   "metadata": {},
   "outputs": [
    {
     "data": {
      "text/plain": [
       "float"
      ]
     },
     "execution_count": 47,
     "metadata": {},
     "output_type": "execute_result"
    }
   ],
   "source": [
    "number=10.5\n",
    "type(number)"
   ]
  },
  {
   "cell_type": "code",
   "execution_count": null,
   "id": "d332d0c9-2e48-436f-9de6-a822762c2bd7",
   "metadata": {},
   "outputs": [],
   "source": [
    "1e1   # 1*10 =10\n",
    "1e2   # 1*100 =100\n",
    "2e3   # 2*1000 =2000\n",
    "4e4   # 4*10000 =40000"
   ]
  },
  {
   "cell_type": "code",
   "execution_count": 49,
   "id": "7ebcd890-9384-4896-aeab-da7eccc9b6ad",
   "metadata": {},
   "outputs": [
    {
     "name": "stdout",
     "output_type": "stream",
     "text": [
      "10.0\n",
      "100.0\n",
      "2000.0\n",
      "40000.0\n"
     ]
    }
   ],
   "source": [
    "print(1e+1)   # 1*10 =10\n",
    "print(1e+2 ) # 1*100 =100\n",
    "print(2e+3)   # 2*1000 =2000\n",
    "print(4e+4)   # 4*10000 =40000"
   ]
  },
  {
   "cell_type": "code",
   "execution_count": 53,
   "id": "2a21a997-e880-4428-968d-d71829b2aac8",
   "metadata": {},
   "outputs": [
    {
     "name": "stdout",
     "output_type": "stream",
     "text": [
      "0.1\n",
      "0.01\n",
      "0.002\n",
      "0.0004\n"
     ]
    }
   ],
   "source": [
    "print(1e-1)   # 1/10 =0.1\n",
    "print(1e-2 ) # 1/100 =0.01\n",
    "print(2e-3)   # 2/1000 =0.002\n",
    "print(4e-4)   # 4/10000 =0,0004"
   ]
  },
  {
   "cell_type": "code",
   "execution_count": null,
   "id": "84e18225-f32b-4561-803c-7be4eef9d579",
   "metadata": {},
   "outputs": [],
   "source": []
  },
  {
   "cell_type": "markdown",
   "id": "07178042-58f6-4f4d-b300-0980eda60904",
   "metadata": {},
   "source": [
    "$Boolean$"
   ]
  },
  {
   "cell_type": "code",
   "execution_count": 1,
   "id": "6c8e824d-85a6-4eb0-a9c3-41b6785d69db",
   "metadata": {},
   "outputs": [
    {
     "data": {
      "text/plain": [
       "bool"
      ]
     },
     "execution_count": 1,
     "metadata": {},
     "output_type": "execute_result"
    }
   ],
   "source": [
    "val=True\n",
    "type(val)"
   ]
  },
  {
   "cell_type": "code",
   "execution_count": 2,
   "id": "84953aac-fec0-4d38-a867-95ea7688101b",
   "metadata": {},
   "outputs": [
    {
     "data": {
      "text/plain": [
       "bool"
      ]
     },
     "execution_count": 2,
     "metadata": {},
     "output_type": "execute_result"
    }
   ],
   "source": [
    "vall=False\n",
    "type(vall)"
   ]
  },
  {
   "cell_type": "markdown",
   "id": "92436004-fb5e-426d-b92a-497b5559727d",
   "metadata": {},
   "source": [
    "- note: use only capital \"T\" and \"F\" , dont use \"t\" and \"f\" for bool values"
   ]
  },
  {
   "cell_type": "markdown",
   "id": "5ebb7bdc-cfb3-4892-ae92-f009d4595016",
   "metadata": {},
   "source": [
    "$strings$"
   ]
  },
  {
   "cell_type": "markdown",
   "id": "394a8d3c-b808-4a11-8f07-b9407ef0ca56",
   "metadata": {},
   "source": [
    "- english format representation\n",
    "- string is represented with in the quotes\n",
    "- we can use single quotes ,double quotes and triple quotes\n"
   ]
  },
  {
   "cell_type": "code",
   "execution_count": 3,
   "id": "8ade3d28-f61d-4b8d-a4e7-2f2d31fe76cc",
   "metadata": {},
   "outputs": [
    {
     "data": {
      "text/plain": [
       "'python'"
      ]
     },
     "execution_count": 3,
     "metadata": {},
     "output_type": "execute_result"
    }
   ],
   "source": [
    "name='python' #single quotes\n",
    "name"
   ]
  },
  {
   "cell_type": "code",
   "execution_count": 4,
   "id": "f42fae25-3cc8-45f7-a3a5-b7af5529f998",
   "metadata": {},
   "outputs": [
    {
     "data": {
      "text/plain": [
       "str"
      ]
     },
     "execution_count": 4,
     "metadata": {},
     "output_type": "execute_result"
    }
   ],
   "source": [
    "type(name)"
   ]
  },
  {
   "cell_type": "code",
   "execution_count": 6,
   "id": "670ca8f1-87f5-4ff4-8626-f799d167ff88",
   "metadata": {},
   "outputs": [
    {
     "name": "stdout",
     "output_type": "stream",
     "text": [
      "python\n"
     ]
    }
   ],
   "source": [
    "print(name) #quotes are not visable when u print"
   ]
  },
  {
   "cell_type": "code",
   "execution_count": 7,
   "id": "6095a36a-d29a-4873-bab0-f40d51153dd5",
   "metadata": {},
   "outputs": [
    {
     "data": {
      "text/plain": [
       "str"
      ]
     },
     "execution_count": 7,
     "metadata": {},
     "output_type": "execute_result"
    }
   ],
   "source": [
    "val='10' # if we use quotes to the integer it will be a string\n",
    "type(val)"
   ]
  },
  {
   "cell_type": "code",
   "execution_count": 8,
   "id": "da4b2a0b-7b57-4938-bd27-b6eb5d071bc9",
   "metadata": {},
   "outputs": [
    {
     "data": {
      "text/plain": [
       "int"
      ]
     },
     "execution_count": 8,
     "metadata": {},
     "output_type": "execute_result"
    }
   ],
   "source": [
    "vall=10  # if we dint use quotes to the integer it will be a integer\n",
    "type(vall)\n"
   ]
  },
  {
   "cell_type": "code",
   "execution_count": null,
   "id": "b48639e3-09c5-4550-b80e-a6070d80e59f",
   "metadata": {},
   "outputs": [],
   "source": []
  },
  {
   "cell_type": "code",
   "execution_count": 9,
   "id": "314b3d94-c04f-4180-9bd5-ba93d84b5473",
   "metadata": {},
   "outputs": [
    {
     "data": {
      "text/plain": [
       "'naresh it'"
      ]
     },
     "execution_count": 9,
     "metadata": {},
     "output_type": "execute_result"
    }
   ],
   "source": [
    "# double quotes\n",
    "name=\"naresh it\" # output will be in single quotes\n",
    "name"
   ]
  },
  {
   "cell_type": "code",
   "execution_count": 11,
   "id": "0c7ec6e9-967d-448a-a8a4-15cb56c9fcd1",
   "metadata": {},
   "outputs": [
    {
     "data": {
      "text/plain": [
       "str"
      ]
     },
     "execution_count": 11,
     "metadata": {},
     "output_type": "execute_result"
    }
   ],
   "source": [
    "type(name)\n"
   ]
  },
  {
   "cell_type": "code",
   "execution_count": 12,
   "id": "29a8570e-8e4e-46dd-825a-a09f4a5d5273",
   "metadata": {},
   "outputs": [
    {
     "name": "stdout",
     "output_type": "stream",
     "text": [
      "naresh it\n"
     ]
    }
   ],
   "source": [
    "print(name)"
   ]
  },
  {
   "cell_type": "code",
   "execution_count": 16,
   "id": "27fe5e9d-c27d-4e7e-b412-2074c00c069b",
   "metadata": {},
   "outputs": [
    {
     "name": "stdout",
     "output_type": "stream",
     "text": [
      "i love 'python'\n"
     ]
    }
   ],
   "source": [
    "str1=\"i love 'python'\" # hightlight word\n",
    "print(str1)"
   ]
  },
  {
   "cell_type": "markdown",
   "id": "3bebacfa-9645-4d2d-8a4b-f1faf5a79859",
   "metadata": {},
   "source": [
    "- entire string is in double quotes, the highlighted word will be in single quotes\n",
    "- entire string is in single quotes, the highlighted word will be in duble quotes"
   ]
  },
  {
   "cell_type": "code",
   "execution_count": null,
   "id": "7654818d-6509-405c-883c-70bb8c6d694f",
   "metadata": {},
   "outputs": [],
   "source": []
  },
  {
   "cell_type": "code",
   "execution_count": null,
   "id": "53ce7f32-7134-471a-bb07-7cc26614b540",
   "metadata": {},
   "outputs": [],
   "source": [
    "#triple quotes\n",
    "\"\"\"hai\n",
    "im learning python\n",
    "its easy\"\"\""
   ]
  },
  {
   "cell_type": "markdown",
   "id": "81777589-4032-4031-915c-8bee9a54d6d1",
   "metadata": {},
   "source": [
    "- triple quotes cannot use in coding part\n",
    "- triple codes means conveying the information\n",
    "- this process is called as **Doc String**\n",
    "- but in vs code or pycharm there is no markdown then user will convey the info by providing triple quotes"
   ]
  },
  {
   "cell_type": "code",
   "execution_count": null,
   "id": "62fd2145-f668-431d-be8b-e92bdab0b2ad",
   "metadata": {},
   "outputs": [],
   "source": [
    "true=True #works\n",
    "true='True' #works\n",
    "true=10.5 #works\n",
    "True=10 #fails\n",
    "True=True #fails"
   ]
  },
  {
   "cell_type": "code",
   "execution_count": null,
   "id": "736ccc7d-9b3f-4675-90e8-e63866f134c9",
   "metadata": {},
   "outputs": [],
   "source": []
  }
 ],
 "metadata": {
  "kernelspec": {
   "display_name": "Python 3 (ipykernel)",
   "language": "python",
   "name": "python3"
  },
  "language_info": {
   "codemirror_mode": {
    "name": "ipython",
    "version": 3
   },
   "file_extension": ".py",
   "mimetype": "text/x-python",
   "name": "python",
   "nbconvert_exporter": "python",
   "pygments_lexer": "ipython3",
   "version": "3.12.7"
  }
 },
 "nbformat": 4,
 "nbformat_minor": 5
}

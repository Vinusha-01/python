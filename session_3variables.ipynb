{
 "cells": [
  {
   "cell_type": "markdown",
   "id": "7808f56c-104e-4404-a688-92c9494e9799",
   "metadata": {},
   "source": [
    "# VARIABLES"
   ]
  },
  {
   "cell_type": "markdown",
   "id": "95c2d386-7f22-49a4-8969-794fbfbe8c6b",
   "metadata": {},
   "source": [
    "- Variables are used to store the data\n",
    "- The data can be changed\n",
    "- These variables can be used to manipulate python code"
   ]
  },
  {
   "cell_type": "code",
   "execution_count": 3,
   "id": "583d57af-c0f6-4cca-8cb1-a7f33e38d29b",
   "metadata": {},
   "outputs": [
    {
     "data": {
      "text/plain": [
       "100"
      ]
     },
     "execution_count": 3,
     "metadata": {},
     "output_type": "execute_result"
    }
   ],
   "source": [
    "number=100\n",
    "# 100 is stored in a variable number\n",
    "number"
   ]
  },
  {
   "cell_type": "code",
   "execution_count": 1,
   "id": "43a5a915-37c5-4a2b-bc56-6e8a89a0f160",
   "metadata": {},
   "outputs": [
    {
     "data": {
      "text/plain": [
       "200"
      ]
     },
     "execution_count": 1,
     "metadata": {},
     "output_type": "execute_result"
    }
   ],
   "source": [
    "NUMBER=200\n",
    "NUMBER"
   ]
  },
  {
   "cell_type": "markdown",
   "id": "cb6aca49-0fc3-43ce-b2e2-93515ddf529e",
   "metadata": {},
   "source": [
    "- python is a case senstive"
   ]
  },
  {
   "cell_type": "code",
   "execution_count": 10,
   "id": "072126af-9e08-4f9f-b672-a011ac3d557d",
   "metadata": {},
   "outputs": [
    {
     "data": {
      "text/plain": [
       "300"
      ]
     },
     "execution_count": 10,
     "metadata": {},
     "output_type": "execute_result"
    }
   ],
   "source": [
    "NumbER=300\n",
    "NumbER"
   ]
  },
  {
   "cell_type": "code",
   "execution_count": 12,
   "id": "19069d3a-66cd-4102-a7fe-ece58d9942eb",
   "metadata": {},
   "outputs": [
    {
     "data": {
      "text/plain": [
       "10"
      ]
     },
     "execution_count": 12,
     "metadata": {},
     "output_type": "execute_result"
    }
   ],
   "source": [
    "number123 =10\n",
    "number123"
   ]
  },
  {
   "cell_type": "code",
   "execution_count": 14,
   "id": "2e3c3c58-4fef-4992-86a8-ae269c69ac2a",
   "metadata": {},
   "outputs": [
    {
     "ename": "SyntaxError",
     "evalue": "invalid decimal literal (3284888288.py, line 1)",
     "output_type": "error",
     "traceback": [
      "\u001b[1;36m  Cell \u001b[1;32mIn[14], line 1\u001b[1;36m\u001b[0m\n\u001b[1;33m    123number=20\u001b[0m\n\u001b[1;37m      ^\u001b[0m\n\u001b[1;31mSyntaxError\u001b[0m\u001b[1;31m:\u001b[0m invalid decimal literal\n"
     ]
    }
   ],
   "source": [
    "123number=20\n",
    "123number"
   ]
  },
  {
   "cell_type": "code",
   "execution_count": null,
   "id": "a098e370-f7b9-4dfd-a84e-97c9be7b3119",
   "metadata": {},
   "outputs": [],
   "source": [
    "#type first 2 letters and enter tap\n"
   ]
  },
  {
   "cell_type": "markdown",
   "id": "dc56f9e4-64bb-40eb-a94d-deeeacc78ae7",
   "metadata": {},
   "source": [
    "- variables generally in black colour \n",
    "- green colour should mot be a variables\n",
    "- number as prefix fails\n",
    "- number as suffix will work"
   ]
  },
  {
   "cell_type": "code",
   "execution_count": 17,
   "id": "dbbd5629-ffe2-44cf-8689-61a1378d2cda",
   "metadata": {},
   "outputs": [
    {
     "ename": "SyntaxError",
     "evalue": "invalid syntax (810613435.py, line 1)",
     "output_type": "error",
     "traceback": [
      "\u001b[1;36m  Cell \u001b[1;32mIn[17], line 1\u001b[1;36m\u001b[0m\n\u001b[1;33m    number$=1\u001b[0m\n\u001b[1;37m          ^\u001b[0m\n\u001b[1;31mSyntaxError\u001b[0m\u001b[1;31m:\u001b[0m invalid syntax\n"
     ]
    }
   ],
   "source": [
    "number$=1\n",
    "number$"
   ]
  },
  {
   "cell_type": "markdown",
   "id": "5c5cc7c4-e52b-420d-8a03-86ec7cb3c7a4",
   "metadata": {},
   "source": [
    "- special charecters will not work\n",
    "- space is also a special charecter\n",
    "- only underscore will work"
   ]
  },
  {
   "cell_type": "markdown",
   "id": "ba26b01e-1dd2-48e1-877e-352ce3d595bb",
   "metadata": {},
   "source": [
    "- keywords cannot use as variables"
   ]
  },
  {
   "cell_type": "code",
   "execution_count": null,
   "id": "21bcb725-1f0c-4411-b1c2-a0550d1eb1a2",
   "metadata": {},
   "outputs": [],
   "source": []
  }
 ],
 "metadata": {
  "kernelspec": {
   "display_name": "Python 3 (ipykernel)",
   "language": "python",
   "name": "python3"
  },
  "language_info": {
   "codemirror_mode": {
    "name": "ipython",
    "version": 3
   },
   "file_extension": ".py",
   "mimetype": "text/x-python",
   "name": "python",
   "nbconvert_exporter": "python",
   "pygments_lexer": "ipython3",
   "version": "3.12.7"
  }
 },
 "nbformat": 4,
 "nbformat_minor": 5
}

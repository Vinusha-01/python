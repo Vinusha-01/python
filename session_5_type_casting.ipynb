{
 "cells": [
  {
   "cell_type": "markdown",
   "id": "edad7ed6-21d6-4ec3-9937-7d87682b7f3e",
   "metadata": {},
   "source": [
    "#  TYPE CASTING"
   ]
  },
  {
   "cell_type": "markdown",
   "id": "39e761f5-973b-4d61-874f-54b2797f01f1",
   "metadata": {},
   "source": [
    "- convert the datat type to another data type\n",
    "- integer :int\n",
    "- float   :float\n",
    "- boolean :bool\n",
    "string :str"
   ]
  },
  {
   "cell_type": "markdown",
   "id": "e465af48-bc97-4055-a63f-69bbcc82f0d8",
   "metadata": {},
   "source": [
    "**int to other data types**"
   ]
  },
  {
   "cell_type": "code",
   "execution_count": 2,
   "id": "f8967bdb-8334-4577-8ae9-cf09f0923353",
   "metadata": {},
   "outputs": [
    {
     "data": {
      "text/plain": [
       "int"
      ]
     },
     "execution_count": 2,
     "metadata": {},
     "output_type": "execute_result"
    }
   ],
   "source": [
    "number=100\n",
    "type(number)"
   ]
  },
  {
   "cell_type": "code",
   "execution_count": 3,
   "id": "1114a8d6-acbd-40ba-b958-5b52948048ed",
   "metadata": {},
   "outputs": [
    {
     "data": {
      "text/plain": [
       "float"
      ]
     },
     "execution_count": 3,
     "metadata": {},
     "output_type": "execute_result"
    }
   ],
   "source": [
    "float_number=float(number)\n",
    "type(float_number)"
   ]
  },
  {
   "cell_type": "code",
   "execution_count": 4,
   "id": "320d9d55-8e36-4525-8b4e-a360329d5c58",
   "metadata": {},
   "outputs": [
    {
     "data": {
      "text/plain": [
       "bool"
      ]
     },
     "execution_count": 4,
     "metadata": {},
     "output_type": "execute_result"
    }
   ],
   "source": [
    "boolean_number=bool(number)\n",
    "type(boolean_number)"
   ]
  },
  {
   "cell_type": "code",
   "execution_count": 5,
   "id": "419a57f7-a349-4490-84ef-25b4d635ff50",
   "metadata": {},
   "outputs": [
    {
     "data": {
      "text/plain": [
       "str"
      ]
     },
     "execution_count": 5,
     "metadata": {},
     "output_type": "execute_result"
    }
   ],
   "source": [
    "string_number=str(number)\n",
    "type(string_number)"
   ]
  },
  {
   "cell_type": "code",
   "execution_count": 6,
   "id": "f9f45abe-7da9-4c9c-8e0e-f9b6a203487f",
   "metadata": {},
   "outputs": [
    {
     "data": {
      "text/plain": [
       "(100.0, True, '100')"
      ]
     },
     "execution_count": 6,
     "metadata": {},
     "output_type": "execute_result"
    }
   ],
   "source": [
    "# u can also write in following way\n",
    "float(100), bool(100), str(100)"
   ]
  },
  {
   "cell_type": "code",
   "execution_count": 7,
   "id": "c2c0c061-fa2d-4e0e-b1ad-5bbab4dd3dbf",
   "metadata": {},
   "outputs": [
    {
     "name": "stdout",
     "output_type": "stream",
     "text": [
      "100.0\n",
      "True\n",
      "100\n"
     ]
    }
   ],
   "source": [
    "print(float(100))\n",
    "print(bool(100))\n",
    "print(str(100))"
   ]
  },
  {
   "cell_type": "code",
   "execution_count": 8,
   "id": "e9e12773-3d01-41f4-a097-c5d35373970e",
   "metadata": {},
   "outputs": [
    {
     "name": "stdout",
     "output_type": "stream",
     "text": [
      "-100.0\n",
      "True\n",
      "-100\n"
     ]
    }
   ],
   "source": [
    "print(float(-100))\n",
    "print(bool(-100))\n",
    "print(str(-100))"
   ]
  },
  {
   "cell_type": "code",
   "execution_count": 10,
   "id": "b80c8336-010a-4098-93f8-0329a87ac475",
   "metadata": {},
   "outputs": [
    {
     "name": "stdout",
     "output_type": "stream",
     "text": [
      "0.0\n",
      "False\n",
      "0\n"
     ]
    }
   ],
   "source": [
    "print(float(0))\n",
    "print(bool(0))\n",
    "print(str(0))"
   ]
  },
  {
   "cell_type": "markdown",
   "id": "027d8949-08ba-4af8-844f-a7c350a27919",
   "metadata": {},
   "source": [
    "- zero means off\n",
    "- False means off"
   ]
  },
  {
   "cell_type": "markdown",
   "id": "494c9894-dc29-4591-9a8c-5ed0632bf192",
   "metadata": {},
   "source": [
    "**float to other data types**"
   ]
  },
  {
   "cell_type": "code",
   "execution_count": 11,
   "id": "1bb24c63-41b3-4c20-aa54-5a51e0e34975",
   "metadata": {},
   "outputs": [
    {
     "name": "stdout",
     "output_type": "stream",
     "text": [
      "10\n",
      "True\n",
      "10.5\n"
     ]
    }
   ],
   "source": [
    "print(int(10.5))\n",
    "print(bool(10.5))\n",
    "print(str(10.5))"
   ]
  },
  {
   "cell_type": "code",
   "execution_count": 12,
   "id": "a7c95b43-5e01-40cc-b56d-365e0fbb3398",
   "metadata": {},
   "outputs": [
    {
     "name": "stdout",
     "output_type": "stream",
     "text": [
      "0\n",
      "False\n",
      "0.0\n"
     ]
    }
   ],
   "source": [
    "print(int(0.0))\n",
    "print(bool(0.0))\n",
    "print(str(0.0))"
   ]
  },
  {
   "cell_type": "code",
   "execution_count": 13,
   "id": "96d46dcd-2aa2-4ad0-8ad2-0bff6e96bc36",
   "metadata": {},
   "outputs": [
    {
     "data": {
      "text/plain": [
       "(10, True, '10.5')"
      ]
     },
     "execution_count": 13,
     "metadata": {},
     "output_type": "execute_result"
    }
   ],
   "source": [
    "int(10.5), bool(10.5), str(10.5)"
   ]
  },
  {
   "cell_type": "code",
   "execution_count": 14,
   "id": "dfe1d1f6-7c73-4088-931b-be6e04876296",
   "metadata": {},
   "outputs": [
    {
     "name": "stdout",
     "output_type": "stream",
     "text": [
      "-10\n",
      "True\n",
      "-10.8\n"
     ]
    }
   ],
   "source": [
    "print(int(-10.8))\n",
    "print(bool(-10.8))\n",
    "print(str(-10.8))"
   ]
  },
  {
   "cell_type": "markdown",
   "id": "636c723c-5876-4a02-aa05-e6bc782cea80",
   "metadata": {},
   "source": [
    "**string to other data type**"
   ]
  },
  {
   "cell_type": "code",
   "execution_count": null,
   "id": "d0957a9d-787a-490a-8042-f8f5af144f65",
   "metadata": {},
   "outputs": [],
   "source": [
    "int('apple') #fails, English to math cant convert\n",
    "float('apple')#fails, English to math cant convert\n",
    "bool('apple') #works"
   ]
  },
  {
   "cell_type": "code",
   "execution_count": 19,
   "id": "7d2be0b3-be3a-4d99-82e9-f7095258a6fb",
   "metadata": {},
   "outputs": [
    {
     "data": {
      "text/plain": [
       "True"
      ]
     },
     "execution_count": 19,
     "metadata": {},
     "output_type": "execute_result"
    }
   ],
   "source": [
    "bool('0')"
   ]
  },
  {
   "cell_type": "code",
   "execution_count": 18,
   "id": "6a993036-8d9d-4c6c-94af-b5f2411fcf9a",
   "metadata": {},
   "outputs": [
    {
     "data": {
      "text/plain": [
       "False"
      ]
     },
     "execution_count": 18,
     "metadata": {},
     "output_type": "execute_result"
    }
   ],
   "source": [
    "bool('')"
   ]
  },
  {
   "cell_type": "code",
   "execution_count": 20,
   "id": "6b4dde6d-36ab-4bf9-b4da-d32039902537",
   "metadata": {},
   "outputs": [
    {
     "data": {
      "text/plain": [
       "True"
      ]
     },
     "execution_count": 20,
     "metadata": {},
     "output_type": "execute_result"
    }
   ],
   "source": [
    "bool(' ') #space is also true , because somthing is avaliable"
   ]
  },
  {
   "cell_type": "markdown",
   "id": "e61ad221-4c23-4702-893b-77cc6586cb16",
   "metadata": {},
   "source": [
    "- for number 0 and0.0 boolean conversion gives **False**\n",
    "- for string empty boolean conversion gives **False**"
   ]
  },
  {
   "cell_type": "code",
   "execution_count": 26,
   "id": "1dc21cab-aa26-4c15-afe2-8f8bfd877c1f",
   "metadata": {},
   "outputs": [
    {
     "data": {
      "text/plain": [
       "(10.0, True, 10)"
      ]
     },
     "execution_count": 26,
     "metadata": {},
     "output_type": "execute_result"
    }
   ],
   "source": [
    "float('10'), bool('10'), int('10')\n",
    "      "
   ]
  },
  {
   "cell_type": "markdown",
   "id": "5b4aded1-b5c0-4415-ac5d-ccfe6747d9eb",
   "metadata": {},
   "source": [
    "**ERROR: object not callable**\n",
    "\n",
    "- python magic\n",
    "- either you need to open new notebook\n",
    "- or go to kernel and restart"
   ]
  },
  {
   "cell_type": "code",
   "execution_count": 29,
   "id": "810b7058-213a-4b58-99d0-d23b8ce22bf6",
   "metadata": {},
   "outputs": [
    {
     "data": {
      "text/plain": [
       "(10.5, True)"
      ]
     },
     "execution_count": 29,
     "metadata": {},
     "output_type": "execute_result"
    }
   ],
   "source": [
    "float('10.5'), bool('10.5')"
   ]
  },
  {
   "cell_type": "code",
   "execution_count": null,
   "id": "5674e5b7-ec39-4526-99f6-d7006eca095f",
   "metadata": {},
   "outputs": [],
   "source": [
    "int('10.5') #fails"
   ]
  },
  {
   "cell_type": "code",
   "execution_count": null,
   "id": "e4c8ef46-ddd1-4c67-99bf-874669f52f9b",
   "metadata": {},
   "outputs": [],
   "source": [
    "**float is the boss** \n",
    "float('10') #work \n",
    "float('10.5') #work\n",
    "\n",
    "int('10') #work \n",
    "int('10.5') #fails"
   ]
  },
  {
   "cell_type": "markdown",
   "id": "8e15266b-906e-4e60-b2c0-943eef64c2c2",
   "metadata": {},
   "source": [
    "**boolean to other data type**"
   ]
  },
  {
   "cell_type": "code",
   "execution_count": 15,
   "id": "d626109b-5a4c-4137-81d8-445ae9012202",
   "metadata": {},
   "outputs": [
    {
     "name": "stdout",
     "output_type": "stream",
     "text": [
      "1\n",
      "1.0\n",
      "True\n"
     ]
    }
   ],
   "source": [
    "print(int(True))\n",
    "print(float(True))\n",
    "print(str(True))"
   ]
  },
  {
   "cell_type": "code",
   "execution_count": 16,
   "id": "0a3aa8da-6635-4805-9382-d89e82b8f683",
   "metadata": {},
   "outputs": [
    {
     "name": "stdout",
     "output_type": "stream",
     "text": [
      "0\n",
      "0.0\n",
      "False\n"
     ]
    }
   ],
   "source": [
    "print(int(False))\n",
    "print(float(False))\n",
    "print(str(False))"
   ]
  },
  {
   "cell_type": "code",
   "execution_count": null,
   "id": "14a96366-832a-4d8c-af3f-9c0a1bf3c8c5",
   "metadata": {},
   "outputs": [],
   "source": [
    "   "
   ]
  }
 ],
 "metadata": {
  "kernelspec": {
   "display_name": "Python 3 (ipykernel)",
   "language": "python",
   "name": "python3"
  },
  "language_info": {
   "codemirror_mode": {
    "name": "ipython",
    "version": 3
   },
   "file_extension": ".py",
   "mimetype": "text/x-python",
   "name": "python",
   "nbconvert_exporter": "python",
   "pygments_lexer": "ipython3",
   "version": "3.12.7"
  }
 },
 "nbformat": 4,
 "nbformat_minor": 5
}
